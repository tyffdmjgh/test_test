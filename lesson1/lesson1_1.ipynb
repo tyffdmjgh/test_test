{
 "cells": [
  {
   "cell_type": "code",
   "execution_count": 17,
   "id": "c0c820b8",
   "metadata": {},
   "outputs": [
    {
     "name": "stdout",
     "output_type": "stream",
     "text": [
      "hello I’m joseph\n"
     ]
    }
   ],
   "source": [
    "print('hello I’m joseph')"
   ]
  },
  {
   "cell_type": "code",
   "execution_count": 18,
   "id": "84ed70a0",
   "metadata": {},
   "outputs": [
    {
     "name": "stdout",
     "output_type": "stream",
     "text": [
      "94\n"
     ]
    }
   ],
   "source": [
    "h=4\n",
    "i=10\n",
    "joseph=80\n",
    "iii=joseph+i+h\n",
    "print(iii)"
   ]
  },
  {
   "cell_type": "code",
   "execution_count": 19,
   "id": "102edd29",
   "metadata": {},
   "outputs": [
    {
     "name": "stdout",
     "output_type": "stream",
     "text": [
      "11111109\n"
     ]
    }
   ],
   "source": [
    "a=100\n",
    "b=1000\n",
    "c=10000\n",
    "d=100000\n",
    "e=1000000\n",
    "f=10000009\n",
    "result=(a+b+c+d+e+f)\n",
    "print(result)"
   ]
  },
  {
   "cell_type": "code",
   "execution_count": 20,
   "id": "80d56900",
   "metadata": {},
   "outputs": [
    {
     "name": "stdout",
     "output_type": "stream",
     "text": [
      "200000\n"
     ]
    }
   ],
   "source": [
    "monica=100\n",
    "mum=100\n",
    "tyffdmjgh=mum*monica*20\n",
    "print(tyffdmjgh)"
   ]
  },
  {
   "cell_type": "markdown",
   "id": "3ea835b4",
   "metadata": {},
   "source": [
    "py"
   ]
  }
 ],
 "metadata": {
  "kernelspec": {
   "display_name": ".venv",
   "language": "python",
   "name": "python3"
  },
  "language_info": {
   "codemirror_mode": {
    "name": "ipython",
    "version": 3
   },
   "file_extension": ".py",
   "mimetype": "text/x-python",
   "name": "python",
   "nbconvert_exporter": "python",
   "pygments_lexer": "ipython3",
   "version": "3.13.2"
  }
 },
 "nbformat": 4,
 "nbformat_minor": 5
}
